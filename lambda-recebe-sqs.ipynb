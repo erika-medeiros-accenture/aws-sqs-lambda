{
 "cells": [
  {
   "cell_type": "code",
   "execution_count": 2,
   "metadata": {},
   "outputs": [],
   "source": [
    "# Importar bibliotecas\n",
    "import boto3\n",
    "import uuid\n",
    "import json\n",
    "import random\n",
    "import logging\n",
    "from datetime import datetime"
   ]
  },
  {
   "cell_type": "code",
   "execution_count": null,
   "metadata": {},
   "outputs": [],
   "source": [
    "sqs = boto3.client('sqs', region_name='eu-central-1')\n",
    "\n",
    "# Criar QUEUE\n",
    "queue_name = \"example_sqs_queue\"\n",
    "create_response = sqs.create_queue(QueueName=queue_name,\n",
    "                                   # timeout in seconds -> int from 0 to 43,200 (12 hours)\n",
    "                                   Attributes={'VisibilityTimeout': '3600'})"
   ]
  },
  {
   "cell_type": "markdown",
   "metadata": {},
   "source": [
    "Alguns links importantes:\n",
    "\n",
    "- WORKING WITH SQS IN PYTHON USING BOTO3: https://hands-on.cloud/working-with-sqs-in-python-using-boto3/\n",
    "- AWS Kinesis vs SNS vs SQS (com exemplos de Python): https://dev.to/dashbird/aws-kinesis-vs-sns-vs-sqs-with-python-examples-3ce3\n",
    "\n",
    "- AWS Lambda as a link between SQS & Kinesis: https://towardsdatascience.com/aws-lambda-as-a-link-between-sqs-and-kinesis-a39cb6e4f762\n",
    "\n",
    "- Docs Boto3: https://boto3.amazonaws.com/v1/documentation/api/latest/index.html\n",
    "\n",
    "\n",
    "- Extract SQS Queue Message in Lambda Function: https://stackoverflow.com/questions/66835590/extract-sqs-queue-message-in-lambda-function\n",
    "\n",
    "- Trying to define messageId for SQS messages to be placed in S3: https://stackoverflow.com/questions/66017595/trying-to-define-messageid-for-sqs-messages-to-be-placed-in-s3\n",
    "\n",
    "- Parse json string in Python: https://stackoverflow.com/questions/59769183/parse-json-string-in-python\n",
    "- Data Engineering 101: From Batch Processing to Streaming: https://betterprogramming.pub/data-engineering-101-from-batch-processing-to-streaming-54f8c0da66fb\n",
    "\n",
    "\n",
    "Adicionais:\n",
    "Asynchronous Messaging: Definitions: https://betterprogramming.pub/asynchronous-messaging-definitions-16a97ee21d7a\n",
    "Json: https://towardsdatascience.com/how-to-best-work-with-json-in-python-2c8989ff0390\n",
    "\n",
    "\n",
    "Vídeos: \n",
    "- https://github.com/soumilshah1995/AWSSQS-Python-Tutorial\n",
    "- https://github.com/soumilshah1995/AWS-Fanout-Architecture-SNS-SQS-Lambda\n",
    "\n",
    "\n",
    "\n",
    "Data Wrangler: \n",
    "- https://aws.amazon.com/pt/blogs/big-data/optimize-python-etl-by-extending-pandas-with-aws-data-wrangler/\n",
    "- https://aws-data-wrangler.readthedocs.io/en/stable/tutorials.html\n",
    "- https://github.com/awslabs/aws-data-wrangler\n",
    "\n",
    "\n",
    "\n"
   ]
  }
 ],
 "metadata": {
  "interpreter": {
   "hash": "9c011c1ba2b88bb839dd8625108be3e894244b8a6e2121b5e8202423010a61da"
  },
  "kernelspec": {
   "display_name": "Python 3.10.0 ('.venv': poetry)",
   "language": "python",
   "name": "python3"
  },
  "language_info": {
   "codemirror_mode": {
    "name": "ipython",
    "version": 3
   },
   "file_extension": ".py",
   "mimetype": "text/x-python",
   "name": "python",
   "nbconvert_exporter": "python",
   "pygments_lexer": "ipython3",
   "version": "3.10.0"
  },
  "orig_nbformat": 4
 },
 "nbformat": 4,
 "nbformat_minor": 2
}
